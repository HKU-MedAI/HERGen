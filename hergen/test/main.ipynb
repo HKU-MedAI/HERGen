{
 "cells": [
  {
   "cell_type": "code",
   "execution_count": 1,
   "metadata": {},
   "outputs": [],
   "source": [
    "from biovlp.datasets.mimic_cxr_dataset import MIMICCXRDataset\n",
    "from biovlp.datasets.datamodule import DataModule\n",
    "from biovlp.datasets.temporal_mimic_cxr_dataset import TemporalMIMICCXRDataset, temporal_collate_fn\n",
    "from transformers import GPT2TokenizerFast\n"
   ]
  },
  {
   "cell_type": "code",
   "execution_count": 4,
   "metadata": {},
   "outputs": [],
   "source": [
    "language_model = \"distilgpt2\"\n",
    "tokenizer = GPT2TokenizerFast.from_pretrained(language_model)\n",
    "tokenizer.add_special_tokens(\n",
    "    {\"bos_token\": \"[BOS]\", 'pad_token': '[PAD]'})\n",
    "annotation_file = \"/home/r15user2/Documents/CXR_dataset/temporal_CXR/mimic_annotation.json\"\n",
    "dataset_dir = \"/home/r15user2/Documents/CXR_dataset/mimic_data/2.0.0/files\"\n",
    "dm = DataModule(TemporalMIMICCXRDataset, tokenizer, annotation_file, dataset_dir, train_data_pct=1.,\n",
    "                batch_size=128, collate_fn=temporal_collate_fn)"
   ]
  },
  {
   "cell_type": "code",
   "execution_count": 6,
   "metadata": {},
   "outputs": [
    {
     "data": {
      "application/vnd.jupyter.widget-view+json": {
       "model_id": "27569365a462412e96e7c74b4bc0d561",
       "version_major": 2,
       "version_minor": 0
      },
      "text/plain": [
       "Map:   0%|          | 0/145471 [00:00<?, ? examples/s]"
      ]
     },
     "metadata": {},
     "output_type": "display_data"
    },
    {
     "name": "stderr",
     "output_type": "stream",
     "text": [
      "100%|██████████| 525/525 [57:31<00:00,  6.58s/it] \n"
     ]
    }
   ],
   "source": [
    "from tqdm import tqdm\n",
    "\n",
    "all_study_dates = []\n",
    "for batch in tqdm(dm.train_dataloader()):\n",
    "    all_study_dates.append(batch['study_date'])"
   ]
  },
  {
   "cell_type": "code",
   "execution_count": 7,
   "metadata": {},
   "outputs": [
    {
     "data": {
      "text/plain": [
       "525"
      ]
     },
     "execution_count": 7,
     "metadata": {},
     "output_type": "execute_result"
    }
   ],
   "source": [
    "len(all_study_dates)"
   ]
  },
  {
   "cell_type": "code",
   "execution_count": 9,
   "metadata": {},
   "outputs": [],
   "source": [
    "import torch\n",
    "\n",
    "study_dates = torch.cat(all_study_dates, dim=0)"
   ]
  },
  {
   "cell_type": "code",
   "execution_count": 10,
   "metadata": {},
   "outputs": [
    {
     "data": {
      "text/plain": [
       "torch.Size([67200, 5])"
      ]
     },
     "execution_count": 10,
     "metadata": {},
     "output_type": "execute_result"
    }
   ],
   "source": [
    "study_dates.shape"
   ]
  },
  {
   "cell_type": "code",
   "execution_count": 11,
   "metadata": {},
   "outputs": [
    {
     "name": "stderr",
     "output_type": "stream",
     "text": [
      "/tmp/ipykernel_1970540/191590338.py:3: UserWarning: \n",
      "\n",
      "`distplot` is a deprecated function and will be removed in seaborn v0.14.0.\n",
      "\n",
      "Please adapt your code to use either `displot` (a figure-level function with\n",
      "similar flexibility) or `histplot` (an axes-level function for histograms).\n",
      "\n",
      "For a guide to updating your code to use the new functions, please see\n",
      "https://gist.github.com/mwaskom/de44147ed2974457ad6372750bbe5751\n",
      "\n",
      "  sns.distplot(study_dates.numpy())\n"
     ]
    },
    {
     "data": {
      "text/plain": [
       "<Axes: ylabel='Density'>"
      ]
     },
     "execution_count": 11,
     "metadata": {},
     "output_type": "execute_result"
    },
    {
     "data": {
      "image/png": "[encoded data removed]",
      "text/plain": [
       "<Figure size 640x480 with 1 Axes>"
      ]
     },
     "metadata": {},
     "output_type": "display_data"
    }
   ],
   "source": [
    "import seaborn as sns\n",
    "\n",
    "sns.distplot(study_dates.numpy())"
   ]
  },
  {
   "cell_type": "code",
   "execution_count": 12,
   "metadata": {},
   "outputs": [
    {
     "data": {
      "text/plain": [
       "tensor(5000.3999)"
      ]
     },
     "execution_count": 12,
     "metadata": {},
     "output_type": "execute_result"
    }
   ],
   "source": [
    "study_dates.max()"
   ]
  },
  {
   "cell_type": "code",
   "execution_count": 1,
   "metadata": {},
   "outputs": [
    {
     "data": {
      "application/vnd.jupyter.widget-view+json": {
       "model_id": "7a0f987c805a45bfa2017a4fed5a814f",
       "version_major": 2,
       "version_minor": 0
      },
      "text/plain": [
       "Map:   0%|          | 0/111750 [00:00<?, ? examples/s]"
      ]
     },
     "metadata": {},
     "output_type": "display_data"
    },
    {
     "data": {
      "application/vnd.jupyter.widget-view+json": {
       "model_id": "df1b20a511c44aae8759ea5e7789aa79",
       "version_major": 2,
       "version_minor": 0
      },
      "text/plain": [
       "Map:   0%|          | 0/897 [00:00<?, ? examples/s]"
      ]
     },
     "metadata": {},
     "output_type": "display_data"
    },
    {
     "data": {
      "application/vnd.jupyter.widget-view+json": {
       "model_id": "2a257eee46fd4ae4af95254d13367953",
       "version_major": 2,
       "version_minor": 0
      },
      "text/plain": [
       "Map:   0%|          | 0/2183 [00:00<?, ? examples/s]"
      ]
     },
     "metadata": {},
     "output_type": "display_data"
    }
   ],
   "source": [
    "from transformers import GPT2TokenizerFast\n",
    "from biovlp.datasets.mimic_cxr_dataset import MIMICCXRDataset\n",
    "\n",
    "\n",
    "language_model = \"distilgpt2\"\n",
    "tokenizer = GPT2TokenizerFast.from_pretrained(language_model)\n",
    "tokenizer.add_special_tokens(\n",
    "    {\"bos_token\": \"[BOS]\", 'pad_token': '[PAD]'})\n",
    "train_dataset = MIMICCXRDataset(\n",
    "    annotation_file=\"/home/r15user2/Documents/CXR_dataset/temporal_CXR/mimic_annotation.json\",\n",
    "    dataset_dir=\"/home/r15user2/Documents/CXR_dataset/mimic_data/2.0.0/files\",\n",
    "    split=\"train\",\n",
    "    tokenizer=tokenizer\n",
    ")\n",
    "val_dataset = MIMICCXRDataset(\n",
    "    annotation_file=\"/home/r15user2/Documents/CXR_dataset/temporal_CXR/mimic_annotation.json\",\n",
    "    dataset_dir=\"/home/r15user2/Documents/CXR_dataset/mimic_data/2.0.0/files\",\n",
    "    split=\"val\",\n",
    "    tokenizer=tokenizer\n",
    ")\n",
    "test_dataset = MIMICCXRDataset(\n",
    "    annotation_file=\"/home/r15user2/Documents/CXR_dataset/temporal_CXR/mimic_annotation.json\",\n",
    "    dataset_dir=\"/home/r15user2/Documents/CXR_dataset/mimic_data/2.0.0/files\",\n",
    "    split=\"test\",\n",
    "    tokenizer=tokenizer\n",
    ")"
   ]
  },
  {
   "cell_type": "code",
   "execution_count": 2,
   "metadata": {},
   "outputs": [
    {
     "data": {
      "text/plain": [
       "111750"
      ]
     },
     "execution_count": 2,
     "metadata": {},
     "output_type": "execute_result"
    }
   ],
   "source": [
    "len(train_dataset)"
   ]
  },
  {
   "cell_type": "code",
   "execution_count": 13,
   "metadata": {},
   "outputs": [
    {
     "name": "stdout",
     "output_type": "stream",
     "text": [
      "16454913    102\n",
      "16662316     84\n",
      "19133405     74\n",
      "12043836     67\n",
      "19509694     64\n",
      "           ... \n",
      "17058141      2\n",
      "17058328      2\n",
      "14845506      2\n",
      "11710223      2\n",
      "16829157      2\n",
      "Name: count, Length: 24874, dtype: int64\n",
      "4.492642920318405\n"
     ]
    }
   ],
   "source": [
    "import numpy as np\n",
    "import pandas as pd\n",
    "\n",
    "df = pd.DataFrame(train_dataset.tokenized_dataset[\"subject_id\"])\n",
    "print(df.value_counts())\n",
    "\n",
    "print(df.value_counts().mean())"
   ]
  },
  {
   "cell_type": "code",
   "execution_count": 6,
   "metadata": {},
   "outputs": [
    {
     "data": {
      "text/plain": [
       "897"
      ]
     },
     "execution_count": 6,
     "metadata": {},
     "output_type": "execute_result"
    }
   ],
   "source": [
    "len(val_dataset)"
   ]
  },
  {
   "cell_type": "code",
   "execution_count": 14,
   "metadata": {},
   "outputs": [
    {
     "name": "stdout",
     "output_type": "stream",
     "text": [
      "11717909    37\n",
      "11888614    28\n",
      "17559288    20\n",
      "18057037    19\n",
      "17055995    17\n",
      "            ..\n",
      "16615572     2\n",
      "13184933     2\n",
      "16145265     2\n",
      "16139394     2\n",
      "17387103     2\n",
      "Name: count, Length: 194, dtype: int64\n",
      "4.623711340206185\n"
     ]
    }
   ],
   "source": [
    "import numpy as np\n",
    "import pandas as pd\n",
    "\n",
    "df = pd.DataFrame(val_dataset.tokenized_dataset[\"subject_id\"])\n",
    "print(df.value_counts())\n",
    "\n",
    "print(df.value_counts().mean())"
   ]
  },
  {
   "cell_type": "code",
   "execution_count": 8,
   "metadata": {},
   "outputs": [
    {
     "data": {
      "text/plain": [
       "2183"
      ]
     },
     "execution_count": 8,
     "metadata": {},
     "output_type": "execute_result"
    }
   ],
   "source": [
    "len(test_dataset)"
   ]
  },
  {
   "cell_type": "code",
   "execution_count": 15,
   "metadata": {},
   "outputs": [
    {
     "name": "stdout",
     "output_type": "stream",
     "text": [
      "19182863    46\n",
      "13475033    46\n",
      "15131736    41\n",
      "14851532    36\n",
      "16826047    32\n",
      "            ..\n",
      "15109122     2\n",
      "12369221     2\n",
      "14434800     2\n",
      "12189285     2\n",
      "13755940     2\n",
      "Name: count, Length: 258, dtype: int64\n",
      "8.46124031007752\n"
     ]
    }
   ],
   "source": [
    "import numpy as np\n",
    "import pandas as pd\n",
    "\n",
    "df = pd.DataFrame(test_dataset.tokenized_dataset[\"subject_id\"])\n",
    "print(df.value_counts())\n",
    "\n",
    "print(df.value_counts().mean())"
   ]
  },
  {
   "cell_type": "code",
   "execution_count": null,
   "metadata": {},
   "outputs": [],
   "source": []
  }
 ],
 "metadata": {
  "kernelspec": {
   "display_name": "seqmae",
   "language": "python",
   "name": "python3"
  },
  "language_info": {
   "codemirror_mode": {
    "name": "ipython",
    "version": 3
   },
   "file_extension": ".py",
   "mimetype": "text/x-python",
   "name": "python",
   "nbconvert_exporter": "python",
   "pygments_lexer": "ipython3",
   "version": "3.10.12"
  },
  "orig_nbformat": 4
 },
 "nbformat": 4,
 "nbformat_minor": 2
}
