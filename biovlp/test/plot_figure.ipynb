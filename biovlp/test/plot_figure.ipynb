{
 "cells": [
  {
   "cell_type": "code",
   "execution_count": 3,
   "metadata": {},
   "outputs": [],
   "source": [
    "import pandas as pd"
   ]
  },
  {
   "cell_type": "code",
   "execution_count": 10,
   "metadata": {},
   "outputs": [],
   "source": [
    "df2 = pd.read_csv('/home/r15user2/Documents/Multi-seq-mae/data/report_generation/cvt2distilgpt2_2023_11_02_15_41_16/exp_logs/generated_reports/test_reports_epoch-26_03-11-2023_03-56-07.csv')\n",
    "df2.rename(columns={\"report\": \"report_cvt\"}, inplace=True)"
   ]
  },
  {
   "cell_type": "code",
   "execution_count": 11,
   "metadata": {},
   "outputs": [],
   "source": [
    "df1 = pd.read_csv('/home/r15user2/Documents/Multi-seq-mae/data/report_generation/temporal_decoder_2023_10_25_21_08_26/exp_logs/generated_reports/test_reports_epoch-20_26-10-2023_08-19-13.csv')\n",
    "df1.rename(columns={\"report\": \"report_temporal\"}, inplace=True)"
   ]
  },
  {
   "cell_type": "code",
   "execution_count": 13,
   "metadata": {},
   "outputs": [],
   "source": [
    "df = pd.merge(df1, df2, on='dicom_id', how='inner')"
   ]
  },
  {
   "cell_type": "code",
   "execution_count": 15,
   "metadata": {},
   "outputs": [
    {
     "name": "stdout",
     "output_type": "stream",
     "text": [
      "the patient is status post coronary artery bypass graft surgery. the cardiac mediastinal and hilar contours appear unchanged. the lungs appear clear. there are no pleural effusions or pneumothorax.\n",
      "as compared to the previous radiograph there is no relevant change. status post sternotomy. borderline size of the cardiac silhouette. no pleural effusions. no pneumonia no pulmonary edema. no pneumothorax.\n"
     ]
    }
   ],
   "source": [
    "for row in df.itertuples():\n",
    "    print(row.report_temporal)\n",
    "    print(row.report_cvt)\n",
    "    break"
   ]
  },
  {
   "cell_type": "code",
   "execution_count": null,
   "metadata": {},
   "outputs": [],
   "source": []
  }
 ],
 "metadata": {
  "kernelspec": {
   "display_name": "seqmae",
   "language": "python",
   "name": "python3"
  },
  "language_info": {
   "codemirror_mode": {
    "name": "ipython",
    "version": 3
   },
   "file_extension": ".py",
   "mimetype": "text/x-python",
   "name": "python",
   "nbconvert_exporter": "python",
   "pygments_lexer": "ipython3",
   "version": "3.10.12"
  },
  "orig_nbformat": 4
 },
 "nbformat": 4,
 "nbformat_minor": 2
}
